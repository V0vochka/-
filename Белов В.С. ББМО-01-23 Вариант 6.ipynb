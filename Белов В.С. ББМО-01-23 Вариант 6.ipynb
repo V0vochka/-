{
  "cells": [
    {
      "cell_type": "code",
      "execution_count": 6,
      "metadata": {
        "colab": {
          "base_uri": "https://localhost:8080/"
        },
        "id": "JaJuVXYDjyvv",
        "outputId": "e6f762f2-38c0-4189-86f2-94df5ab6c8da"
      },
      "outputs": [
        {
          "name": "stdout",
          "output_type": "stream",
          "text": [
            "Первый массив случайных чисел: [80, 22, 15, 50, 89, 6, 12, 6, 59, 47, 95, 67, 58, 62, 9, 97, 97, 58, 78, 38, 13, 42, 54, 51, 76, 26, 22, 41, 36, 20, 17, 24, 97, 32, 63, 82, 96, 66, 66, 21, 50, 80, 55, 2, 21, 70, 67, 26, 35, 86]\n",
            "Второй массив случайных чисел: [78, 11, 95, 60, 75, 34, 8, 19, 73, 48, 65, 16, 99, 26, 89, 30, 20, 8, 91, 66, 47, 56, 24, 87, 53, 62, 33, 84, 32, 54, 2, 19, 21, 46, 97, 89, 30, 32, 82, 23, 10, 80, 6, 80, 89, 93, 55, 60, 84, 76]\n",
            "Общие элементы: [{2, 6, 20, 21, 24, 26, 32, 47, 54, 55, 62, 66, 76, 78, 80, 82, 89, 95, 97}]\n"
          ]
        }
      ],
      "source": [
        "import random\n",
        "# Создание массивов случайных чисел, размером в 50 элементов (Элементы от 1 до 100)\n",
        "mass_size = 50\n",
        "random_mass = [random.randint(1, 100) for _ in range(mass_size)]\n",
        "random_mass2 = [random.randint(1, 100) for _ in range(mass_size)]\n",
        "print(f\"Первый массив случайных чисел: {random_mass}\")\n",
        "print(f\"Второй массив случайных чисел: {random_mass2}\")\n",
        "group_mass = [set (random_mass) & set (random_mass2)]\n",
        "print(f\"Общие элементы: {group_mass}\")"
      ]
    }
  ],
  "metadata": {
    "colab": {
      "provenance": []
    },
    "kernelspec": {
      "display_name": "Python 3",
      "name": "python3"
    },
    "language_info": {
      "codemirror_mode": {
        "name": "ipython",
        "version": 3
      },
      "file_extension": ".py",
      "mimetype": "text/x-python",
      "name": "python",
      "nbconvert_exporter": "python",
      "pygments_lexer": "ipython3",
      "version": "3.10.13"
    }
  },
  "nbformat": 4,
  "nbformat_minor": 0
}
