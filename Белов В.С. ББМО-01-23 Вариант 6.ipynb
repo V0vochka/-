{
  "cells": [
    {
      "cell_type": "code",
      "execution_count": 2,
      "metadata": {
        "colab": {
          "base_uri": "https://localhost:8080/"
        },
        "id": "JaJuVXYDjyvv",
        "outputId": "e6f762f2-38c0-4189-86f2-94df5ab6c8da"
      },
      "outputs": [
        {
          "name": "stdout",
          "output_type": "stream",
          "text": [
            "Первый массив случайных чисел: [51, 74, 15, 54, 84, 26, 85, 9, 25, 82, 68, 1, 11, 42, 59, 70, 55, 39, 13, 58, 22, 78, 1, 46, 7, 16, 50, 5, 92, 53, 59, 85, 11, 87, 51, 79, 91, 19, 66, 57, 88, 56, 92, 37, 48, 62, 3, 45, 87, 58]\n",
            "Второй массив случайных чисел: [2, 96, 63, 55, 49, 2, 41, 16, 21, 86, 49, 68, 36, 70, 54, 62, 16, 2, 33, 55, 69, 77, 25, 78, 36, 13, 56, 41, 54, 28, 4, 96, 91, 25, 77, 59, 97, 32, 94, 64, 11, 22, 65, 76, 23, 73, 7, 74, 32, 53]\n",
            "Общие элементы: [{68, 70, 7, 74, 11, 91, 13, 78, 16, 53, 22, 54, 55, 25, 56, 59, 62}]\n"
          ]
        }
      ],
      "source": [
        "import random\n",
        "# Создание массивов случайных чисел, размером в 50 элементов (Элементы от 1 до 100)\n",
        "mass_size = 50\n",
        "random_mass = [random.randint(1, 100) for _ in range(mass_size)]\n",
        "random_mass2 = [random.randint(1, 100) for _ in range(mass_size)]\n",
        "print(f\"Первый массив случайных чисел: {random_mass}\")\n",
        "print(f\"Второй массив случайных чисел: {random_mass2}\")\n",
        "group_mass = [set (random_mass) & set (random_mass2)]\n",
        "print(f\"Общие элементы: {group_mass}\")"
      ]
    },
    {
      "cell_type": "code",
      "execution_count": 91,
      "metadata": {
        "colab": {
          "base_uri": "https://localhost:8080/"
        },
        "id": "OtT5jpeVmwRh",
        "outputId": "1c9492f8-b738-40ba-cfb5-9657a469a22d"
      },
      "outputs": [
        {
          "name": "stdout",
          "output_type": "stream",
          "text": [
            "Введите число студентов: 2\n",
            "Введите фамилию студента: fsdf\n",
            "Введите имя студента: fsdfs\n",
            "Введите дату рождения студента (гггг-мм-дд): 3141241\n",
            "Введите количество предметов в зачетке студента(3-5): 1\n",
            "Неверное число!Введите количество предметов в зачетке студента (3-5): 3\n",
            "Введите название предмета: dasfaf\n",
            "Введите дату экзамена (гггг-мм-дд) по этому предмету: 3414124\n",
            "Введите ФИО преподавателя по этому предмету: gasg gsfdga\n",
            "Введите название предмета: fsdfsfs\n",
            "Введите дату экзамена (гггг-мм-дд) по этому предмету: 4124124\n",
            "Введите ФИО преподавателя по этому предмету: fsdffsfdsf\n",
            "Введите название предмета: jfghjd\n",
            "Введите дату экзамена (гггг-мм-дд) по этому предмету: 4241\n",
            "Введите ФИО преподавателя по этому предмету: dsfdsf\n",
            "Введите фамилию студента: fdfs\n",
            "Введите имя студента: fdsa\n",
            "Введите дату рождения студента (гггг-мм-дд): 412\n",
            "Введите количество предметов в зачетке студента(3-5): 3\n",
            "Введите название предмета: fsdfs\n",
            "Введите дату экзамена (гггг-мм-дд) по этому предмету: 41421\n",
            "Введите ФИО преподавателя по этому предмету: hahdafhda\n",
            "Введите название предмета: fsdfsf\n",
            "Введите дату экзамена (гггг-мм-дд) по этому предмету: 412414\n",
            "Введите ФИО преподавателя по этому предмету: hfahhdf\n",
            "Введите название предмета: fsdfsf\n",
            "Введите дату экзамена (гггг-мм-дд) по этому предмету: 4141412\n",
            "Введите ФИО преподавателя по этому предмету: dhadhdh\n",
            "Преподаватели:\n",
            "ФИО\n",
            "dhadhdh\n",
            "hahdafhda\n"
          ]
        }
      ],
      "source": [
        "i = 0\n",
        "class Student:\n",
        "    def __init__(studs, surname, name, birthday, context):\n",
        "        studs.surname = surname\n",
        "        studs.name = name\n",
        "        studs.birthday = birthday\n",
        "        studs.context = context\n",
        "class Teacher:\n",
        "    def __init__(studs, full_name):\n",
        "        studs.full_name = full_name\n",
        "\n",
        "def print_teachers_info(students):\n",
        "    teachers_full_names = set()\n",
        "    for student in students:\n",
        "        for subject in student.context:\n",
        "            teachers_full_names.add(student.context[subject][\"teacher\"])\n",
        "\n",
        "    print(\"ФИО всех преподавателей:\")\n",
        "    for teacher_name in teachers_full_names:\n",
        "        print(teacher_name)\n",
        "students = []\n",
        "x = int(input(\"Введите число студентов: \"))\n",
        "while x <= 0:\n",
        "  x = int(input(\"Неверное число! Введите число студентов: \"))f\n",
        "while i < x:\n",
        "    surname = input(\"Введите фамилию студента: \")\n",
        "    name = input(\"Введите имя студента: \")\n",
        "    birthday = input(\"Введите дату рождения студента (гггг-мм-дд): \")\n",
        "    context = {}\n",
        "    num_subjects = int(input(\"Введите количество предметов в зачетке студента(3-5): \"))\n",
        "    while (num_subjects < 3) or (num_subjects > 5):\n",
        "      num_subjects = int(input(\"Неверное число!Введите количество предметов в зачетке студента (3-5): \"))\n",
        "    for j in range(num_subjects):\n",
        "        subject = input(\"Введите название предмета: \")\n",
        "        exam_date = input(\"Введите дату экзамена (гггг-мм-дд) по этому предмету: \")\n",
        "        teacher_name = input(\"Введите ФИО преподавателя по этому предмету: \")\n",
        "        context[subject] = {\"exam_date\": exam_date, \"teacher\": teacher_name}\n",
        "    i = i+1\n",
        "student = Student(surname, name, birthday, context)\n",
        "students.append(student)\n",
        "print_teachers_info(students)"
      ]
    },
    {
      "cell_type": "code",
      "execution_count": null,
      "metadata": {
        "id": "QDHpV8Kzqwrq"
      },
      "outputs": [],
      "source": []
    }
  ],
  "metadata": {
    "colab": {
      "provenance": []
    },
    "kernelspec": {
      "display_name": "Python 3",
      "name": "python3"
    },
    "language_info": {
      "codemirror_mode": {
        "name": "ipython",
        "version": 3
      },
      "file_extension": ".py",
      "mimetype": "text/x-python",
      "name": "python",
      "nbconvert_exporter": "python",
      "pygments_lexer": "ipython3",
      "version": "3.10.13"
    }
  },
  "nbformat": 4,
  "nbformat_minor": 0
}
