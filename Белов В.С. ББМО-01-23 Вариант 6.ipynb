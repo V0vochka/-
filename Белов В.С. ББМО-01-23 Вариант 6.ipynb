{
  "cells": [
    {
      "cell_type": "code",
      "execution_count": 5,
      "metadata": {
        "colab": {
          "base_uri": "https://localhost:8080/"
        },
        "id": "JaJuVXYDjyvv",
        "outputId": "e6f762f2-38c0-4189-86f2-94df5ab6c8da"
      },
      "outputs": [
        {
          "ename": "NameError",
          "evalue": "name 'random_masss' is not defined",
          "output_type": "error",
          "traceback": [
            "\u001b[0;31m---------------------------------------------------------------------------\u001b[0m",
            "\u001b[0;31mNameError\u001b[0m                                 Traceback (most recent call last)",
            "Cell \u001b[0;32mIn[5], line 6\u001b[0m\n\u001b[1;32m      4\u001b[0m random_mass \u001b[38;5;241m=\u001b[39m [random\u001b[38;5;241m.\u001b[39mrandint(\u001b[38;5;241m1\u001b[39m, \u001b[38;5;241m100\u001b[39m) \u001b[38;5;28;01mfor\u001b[39;00m _ \u001b[38;5;129;01min\u001b[39;00m \u001b[38;5;28mrange\u001b[39m(mass_size)]\n\u001b[1;32m      5\u001b[0m random_mass2 \u001b[38;5;241m=\u001b[39m [random\u001b[38;5;241m.\u001b[39mrandint(\u001b[38;5;241m1\u001b[39m, \u001b[38;5;241m100\u001b[39m) \u001b[38;5;28;01mfor\u001b[39;00m _ \u001b[38;5;129;01min\u001b[39;00m \u001b[38;5;28mrange\u001b[39m(mass_size)]\n\u001b[0;32m----> 6\u001b[0m \u001b[38;5;28mprint\u001b[39m(\u001b[38;5;124mf\u001b[39m\u001b[38;5;124m\"\u001b[39m\u001b[38;5;124mПервый массив случайных чисел: \u001b[39m\u001b[38;5;132;01m{\u001b[39;00m\u001b[43mrandom_masss\u001b[49m\u001b[38;5;132;01m}\u001b[39;00m\u001b[38;5;124m\"\u001b[39m)\n\u001b[1;32m      7\u001b[0m \u001b[38;5;28mprint\u001b[39m(\u001b[38;5;124mf\u001b[39m\u001b[38;5;124m\"\u001b[39m\u001b[38;5;124mВторой массив случайных чисел: \u001b[39m\u001b[38;5;132;01m{\u001b[39;00mrandom_masss2\u001b[38;5;132;01m}\u001b[39;00m\u001b[38;5;124m\"\u001b[39m)\n\u001b[1;32m      8\u001b[0m group_mass \u001b[38;5;241m=\u001b[39m [\u001b[38;5;28mset\u001b[39m (random_mass) \u001b[38;5;241m&\u001b[39m \u001b[38;5;28mset\u001b[39m (random_mass2)]\n",
            "\u001b[0;31mNameError\u001b[0m: name 'random_masss' is not defined"
          ]
        }
      ],
      "source": [
        "import random\n",
        "# Создание массивов случайных чисел, размером в 50 элементов (Элементы от 1 до 100)\n",
        "mass_size = 50\n",
        "random_mass = [random.randint(1, 100) for _ in range(mass_size)]\n",
        "random_mass2 = [random.randint(1, 100) for _ in range(mass_size)]\n",
        "print(f\"Первый массив случайных чисел: {random_mass}\")\n",
        "print(f\"Второй массив случайных чисел: {random_mass2}\")\n",
        "group_mass = [set (random_mass) & set (random_mass2)]\n",
        "print(f\"Общие элементы: {group_mass}\")"
      ]
    }
  ],
  "metadata": {
    "colab": {
      "provenance": []
    },
    "kernelspec": {
      "display_name": "Python 3",
      "name": "python3"
    },
    "language_info": {
      "codemirror_mode": {
        "name": "ipython",
        "version": 3
      },
      "file_extension": ".py",
      "mimetype": "text/x-python",
      "name": "python",
      "nbconvert_exporter": "python",
      "pygments_lexer": "ipython3",
      "version": "3.10.13"
    }
  },
  "nbformat": 4,
  "nbformat_minor": 0
}
