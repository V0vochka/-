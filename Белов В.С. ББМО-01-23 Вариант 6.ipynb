{
  "cells": [
    {
      "cell_type": "code",
      "execution_count": 6,
      "metadata": {
        "colab": {
          "base_uri": "https://localhost:8080/"
        },
        "id": "JaJuVXYDjyvv",
        "outputId": "e6f762f2-38c0-4189-86f2-94df5ab6c8da"
      },
      "outputs": [
        {
          "name": "stdout",
          "output_type": "stream",
          "text": [
            "Первый массив случайных чисел: [80, 22, 15, 50, 89, 6, 12, 6, 59, 47, 95, 67, 58, 62, 9, 97, 97, 58, 78, 38, 13, 42, 54, 51, 76, 26, 22, 41, 36, 20, 17, 24, 97, 32, 63, 82, 96, 66, 66, 21, 50, 80, 55, 2, 21, 70, 67, 26, 35, 86]\n",
            "Второй массив случайных чисел: [78, 11, 95, 60, 75, 34, 8, 19, 73, 48, 65, 16, 99, 26, 89, 30, 20, 8, 91, 66, 47, 56, 24, 87, 53, 62, 33, 84, 32, 54, 2, 19, 21, 46, 97, 89, 30, 32, 82, 23, 10, 80, 6, 80, 89, 93, 55, 60, 84, 76]\n",
            "Общие элементы: [{2, 6, 20, 21, 24, 26, 32, 47, 54, 55, 62, 66, 76, 78, 80, 82, 89, 95, 97}]\n"
          ]
        }
      ],
      "source": [
        "import random\n",
        "# Создание массивов случайных чисел, размером в 50 элементов (Элементы от 1 до 100)\n",
        "mass_size = 50\n",
        "random_mass = [random.randint(1, 100) for _ in range(mass_size)]\n",
        "random_mass2 = [random.randint(1, 100) for _ in range(mass_size)]\n",
        "print(f\"Первый массив случайных чисел: {random_mass}\")\n",
        "print(f\"Второй массив случайных чисел: {random_mass2}\")\n",
        "group_mass = [set (random_mass) & set (random_mass2)]\n",
        "print(f\"Общие элементы: {group_mass}\")"
      ]
    },
    {
      "cell_type": "code",
      "execution_count": null,
      "metadata": {},
      "outputs": [],
      "source": [
        "i = 0\n",
        "class Student:\n",
        "    def __init__(studs, surname, name, birthday, context):\n",
        "        studs.surname = surname\n",
        "        studs.name = name\n",
        "        studs.birthday = birthday\n",
        "        studs.context = context\n",
        "class Teacher:\n",
        "    def __init__(studs, full_name):\n",
        "        studs.full_name = full_name\n",
        "\n",
        "def print_teachers_info(students):\n",
        "    teachers_full_names = set()\n",
        "    for student in students:\n",
        "        for subject in student.context:\n",
        "            teachers_full_names.add(student.context[subject][\"teacher\"])\n",
        "\n",
        "    print(\"ФИО всех преподавателей:\")\n",
        "    for teacher_name in teachers_full_names:\n",
        "        print(teacher_name)\n",
        "students = []\n",
        "x = int(input(\"Введите число студентов: \"))\n",
        "while x <= 0:\n",
        "  x = int(input(\"Неверное число! Введите число студентов: \"))\n",
        "while i < x:\n",
        "    surname = input(\"Введите фамилию студента: \")\n",
        "    name = input(\"Введите имя студента: \")\n",
        "    birthday = input(\"Введите дату рождения студента (гггг-мм-дд): \")\n",
        "    context = {}\n",
        "    num_subjects = int(input(\"Введите количество предметов в зачетке студента(3-5): \"))\n",
        "    while (num_subjects < 3) or (num_subjects > 5):\n",
        "      num_subjects = int(input(\"Неверное число!Введите количество предметов в зачетке студента (3-5): \"))\n",
        "    for j in range(num_subjects):\n",
        "        subject = input(\"Введите название предмета: \")\n",
        "        exam_date = input(\"Введите дату экзамена (гггг-мм-дд) по этому предмету: \")\n",
        "        teacher_name = input(\"Введите ФИО преподавателя по этому предмету: \")\n",
        "        context[subject] = {\"exam_date\": exam_date, \"teacher\": teacher_name}\n",
        "    i = i+1\n",
        "student = Student(surname, name, birthday, context)\n",
        "students.append(student)\n",
        "print_teachers_info(students)"
      ]
    }
  ],
  "metadata": {
    "colab": {
      "provenance": []
    },
    "kernelspec": {
      "display_name": "Python 3",
      "name": "python3"
    },
    "language_info": {
      "codemirror_mode": {
        "name": "ipython",
        "version": 3
      },
      "file_extension": ".py",
      "mimetype": "text/x-python",
      "name": "python",
      "nbconvert_exporter": "python",
      "pygments_lexer": "ipython3",
      "version": "3.undefined.undefined"
    }
  },
  "nbformat": 4,
  "nbformat_minor": 0
}
