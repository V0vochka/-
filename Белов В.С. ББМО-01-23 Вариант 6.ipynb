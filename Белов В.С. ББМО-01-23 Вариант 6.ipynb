{
  "nbformat": 4,
  "nbformat_minor": 0,
  "metadata": {
    "colab": {
      "provenance": []
    },
    "kernelspec": {
      "name": "python3",
      "display_name": "Python 3"
    },
    "language_info": {
      "name": "python"
    }
  },
  "cells": [
    {
      "cell_type": "markdown",
      "source": [
        "# УПИ – Лабораторная работа № 1 Организация информационно-технического проекта\n",
        "\n",
        "Белов Владимир Станиславович группа ББМО-01-23 Вариант: 6."
      ],
      "metadata": {
        "id": "gbxBDyxqKobY"
      }
    },
    {
      "cell_type": "markdown",
      "source": [
        "**Задача 1 часть**\n",
        "8.\tНаписать функцию, которая объединяет два одномерных массива в один, состоящий только из уникальных элементов, входящие в оба массива\n"
      ],
      "metadata": {
        "id": "y0L5YeE3LW2S"
      }
    },
    {
      "cell_type": "code",
      "source": [
        "import random\n",
        "# Создание массивов случайных чисел, размером в 50 элементов (Элементы от 1 до 100)\n",
        "mass_size = 50\n",
        "random_mass = [random.randint(1, 100) for _ in range(mass_size)]\n",
        "random_mass2 = [random.randint(1, 100) for _ in range(mass_size)]\n",
        "print(f\"Первый массив случайных чисел: {random_mass}\")\n",
        "print(f\"Второй массив случайных чисел: {random_mass2}\")\n",
        "group_mass = [set (random_mass) & set (random_mass2)]\n",
        "print(f\"Общие элементы: {group_mass}\")"
      ],
      "metadata": {
        "colab": {
          "base_uri": "https://localhost:8080/"
        },
        "id": "JaJuVXYDjyvv",
        "outputId": "e6f762f2-38c0-4189-86f2-94df5ab6c8da"
      },
      "execution_count": 92,
      "outputs": [
        {
          "output_type": "stream",
          "name": "stdout",
          "text": [
            "Первый массив случайных чисел: [87, 82, 8, 96, 35, 63, 24, 14, 52, 29, 99, 21, 26, 11, 96, 69, 52, 60, 92, 37, 69, 17, 28, 53, 58, 79, 18, 7, 27, 88, 83, 11, 44, 45, 73, 5, 77, 14, 80, 90, 51, 58, 56, 63, 83, 89, 76, 66, 88, 35]\n",
            "Второй массив случайных чисел: [46, 75, 21, 100, 41, 41, 27, 35, 44, 8, 65, 70, 18, 50, 55, 42, 84, 16, 95, 18, 69, 74, 30, 15, 42, 11, 75, 25, 60, 99, 47, 70, 51, 59, 73, 99, 98, 22, 90, 30, 36, 28, 77, 92, 64, 58, 17, 7, 71, 74]\n",
            "Общие элементы: [{7, 8, 11, 17, 18, 21, 27, 28, 35, 44, 51, 58, 60, 69, 73, 77, 90, 92, 99}]\n"
          ]
        }
      ]
    },
    {
      "cell_type": "markdown",
      "source": [
        "**Задача 2 часть**\n",
        "Составить список учебной группы, включающий Х человек. Для каждого студента указать: фамилию и имя, дату рождения (год, месяц и число), также у каждого студента есть зачетка, в которой указаны: предмет (от трех до пяти), дата экзамена, ФИО преподавателя.\n",
        "Программа должна обладать следующим функционалом:\n",
        "2.\tВывод виде таблицы ФИО всех преподавателей, в зачетке"
      ],
      "metadata": {
        "id": "YYmsMghEn7uV"
      }
    },
    {
      "cell_type": "code",
      "source": [
        "i = 0\n",
        "class Student:\n",
        "    def __init__(studs, surname, name, birthday, context):\n",
        "        studs.surname = surname\n",
        "        studs.name = name\n",
        "        studs.birthday = birthday\n",
        "        studs.context = context\n",
        "class Teacher:\n",
        "    def __init__(studs, full_name):\n",
        "        studs.full_name = full_name\n",
        "\n",
        "def print_teachers_info(students):\n",
        "    teachers_full_names = set()\n",
        "    for student in students:\n",
        "        for subject in student.context:\n",
        "            teachers_full_names.add(student.context[subject][\"teacher\"])\n",
        "\n",
        "    print(\"ФИО всех преподавателей:\")\n",
        "    for teacher_name in teachers_full_names:\n",
        "        print(teacher_name)\n",
        "students = []\n",
        "x = int(input(\"Введите число студентов: \"))\n",
        "while x <= 0:\n",
        "  x = int(input(\"Неверное число! Введите число студентов: \"))f\n",
        "while i < x:\n",
        "    surname = input(\"Введите фамилию студента: \")\n",
        "    name = input(\"Введите имя студента: \")\n",
        "    birthday = input(\"Введите дату рождения студента (гггг-мм-дд): \")\n",
        "    context = {}\n",
        "    num_subjects = int(input(\"Введите количество предметов в зачетке студента(3-5): \"))\n",
        "    while (num_subjects < 3) or (num_subjects > 5):\n",
        "      num_subjects = int(input(\"Неверное число!Введите количество предметов в зачетке студента (3-5): \"))\n",
        "    for j in range(num_subjects):\n",
        "        subject = input(\"Введите название предмета: \")\n",
        "        exam_date = input(\"Введите дату экзамена (гггг-мм-дд) по этому предмету: \")\n",
        "        teacher_name = input(\"Введите ФИО преподавателя по этому предмету: \")\n",
        "        context[subject] = {\"exam_date\": exam_date, \"teacher\": teacher_name}\n",
        "    i = i+1\n",
        "student = Student(surname, name, birthday, context)\n",
        "students.append(student)\n",
        "print_teachers_info(students)"
      ],
      "metadata": {
        "colab": {
          "base_uri": "https://localhost:8080/"
        },
        "id": "OtT5jpeVmwRh",
        "outputId": "1c9492f8-b738-40ba-cfb5-9657a469a22d"
      },
      "execution_count": 91,
      "outputs": [
        {
          "output_type": "stream",
          "name": "stdout",
          "text": [
            "Введите число студентов: 2\n",
            "Введите фамилию студента: fsdf\n",
            "Введите имя студента: fsdfs\n",
            "Введите дату рождения студента (гггг-мм-дд): 3141241\n",
            "Введите количество предметов в зачетке студента(3-5): 1\n",
            "Неверное число!Введите количество предметов в зачетке студента (3-5): 3\n",
            "Введите название предмета: dasfaf\n",
            "Введите дату экзамена (гггг-мм-дд) по этому предмету: 3414124\n",
            "Введите ФИО преподавателя по этому предмету: gasg gsfdga\n",
            "Введите название предмета: fsdfsfs\n",
            "Введите дату экзамена (гггг-мм-дд) по этому предмету: 4124124\n",
            "Введите ФИО преподавателя по этому предмету: fsdffsfdsf\n",
            "Введите название предмета: jfghjd\n",
            "Введите дату экзамена (гггг-мм-дд) по этому предмету: 4241\n",
            "Введите ФИО преподавателя по этому предмету: dsfdsf\n",
            "Введите фамилию студента: fdfs\n",
            "Введите имя студента: fdsa\n",
            "Введите дату рождения студента (гггг-мм-дд): 412\n",
            "Введите количество предметов в зачетке студента(3-5): 3\n",
            "Введите название предмета: fsdfs\n",
            "Введите дату экзамена (гггг-мм-дд) по этому предмету: 41421\n",
            "Введите ФИО преподавателя по этому предмету: hahdafhda\n",
            "Введите название предмета: fsdfsf\n",
            "Введите дату экзамена (гггг-мм-дд) по этому предмету: 412414\n",
            "Введите ФИО преподавателя по этому предмету: hfahhdf\n",
            "Введите название предмета: fsdfsf\n",
            "Введите дату экзамена (гггг-мм-дд) по этому предмету: 4141412\n",
            "Введите ФИО преподавателя по этому предмету: dhadhdh\n",
            "Преподаватели:\n",
            "ФИО\n",
            "dhadhdh\n",
            "hahdafhda\n"
          ]
        }
      ]
    },
    {
      "cell_type": "code",
      "source": [],
      "metadata": {
        "id": "QDHpV8Kzqwrq"
      },
      "execution_count": null,
      "outputs": []
    }
  ]
}